{
  "nbformat": 4,
  "nbformat_minor": 0,
  "metadata": {
    "colab": {
      "provenance": [],
      "authorship_tag": "ABX9TyMja6qdfQF83erHxZGPubMA",
      "include_colab_link": true
    },
    "kernelspec": {
      "name": "python3",
      "display_name": "Python 3"
    },
    "language_info": {
      "name": "python"
    }
  },
  "cells": [
    {
      "cell_type": "markdown",
      "metadata": {
        "id": "view-in-github",
        "colab_type": "text"
      },
      "source": [
        "<a href=\"https://colab.research.google.com/github/anas7272/Projects/blob/main/sentence_analysis.ipynb\" target=\"_parent\"><img src=\"https://colab.research.google.com/assets/colab-badge.svg\" alt=\"Open In Colab\"/></a>"
      ]
    },
    {
      "cell_type": "code",
      "execution_count": 1,
      "metadata": {
        "colab": {
          "base_uri": "https://localhost:8080/"
        },
        "id": "mFVAc8KkBlSb",
        "outputId": "4a88fade-67cd-49c2-b1a9-7ec0d3ceb238"
      },
      "outputs": [
        {
          "output_type": "stream",
          "name": "stdout",
          "text": [
            "\u001b[?25l   \u001b[90m━━━━━━━━━━━━━━━━━━━━━━━━━━━━━━━━━━━━━━━━\u001b[0m \u001b[32m0.0/126.0 kB\u001b[0m \u001b[31m?\u001b[0m eta \u001b[36m-:--:--\u001b[0m\r\u001b[2K   \u001b[90m━━━━━━━━━━━━━━━━━━━━━━━━━━━━━━━━━━━━━━━━\u001b[0m \u001b[32m126.0/126.0 kB\u001b[0m \u001b[31m3.7 MB/s\u001b[0m eta \u001b[36m0:00:00\u001b[0m\n",
            "\u001b[?25h"
          ]
        },
        {
          "output_type": "stream",
          "name": "stderr",
          "text": [
            "[nltk_data] Downloading package punkt to /root/nltk_data...\n",
            "[nltk_data]   Unzipping tokenizers/punkt.zip.\n",
            "[nltk_data] Downloading package vader_lexicon to /root/nltk_data...\n"
          ]
        },
        {
          "output_type": "execute_result",
          "data": {
            "text/plain": [
              "True"
            ]
          },
          "metadata": {},
          "execution_count": 1
        }
      ],
      "source": [
        "!pip install nltk textblob vaderSentiment --quiet\n",
        "import nltk\n",
        "from textblob import TextBlob\n",
        "from vaderSentiment.vaderSentiment import SentimentIntensityAnalyzer\n",
        "\n",
        "# Download NLTK resources\n",
        "nltk.download('punkt')\n",
        "nltk.download('vader_lexicon')\n"
      ]
    },
    {
      "cell_type": "code",
      "source": [
        "# VADER Sentiment Analyzer\n",
        "analyzer = SentimentIntensityAnalyzer()\n"
      ],
      "metadata": {
        "id": "npVlTqHWBxds"
      },
      "execution_count": 2,
      "outputs": []
    },
    {
      "cell_type": "code",
      "source": [
        "def analyze_sentiment(text):\n",
        "    # Using TextBlob for polarity\n",
        "    blob = TextBlob(text)\n",
        "    polarity = blob.sentiment.polarity  # -1 to +1\n",
        "\n",
        "    # Using VADER for sentiment scores\n",
        "    vs = analyzer.polarity_scores(text)\n",
        "    vader_compound = vs['compound']\n",
        "\n",
        "    # Determine overall sentiment\n",
        "    if vader_compound >= 0.05:\n",
        "        sentiment = \"Positive\"\n",
        "    elif vader_compound <= -0.05:\n",
        "        sentiment = \"Negative\"\n",
        "    else:\n",
        "        sentiment = \"Neutral\"\n",
        "\n",
        "    # Determine emotion hints (basic lexicon-based)\n",
        "    emotion = []\n",
        "    positive_words = [\"happy\",\"joy\",\"love\",\"good\",\"excellent\",\"great\",\"awesome\",\"fantastic\"]\n",
        "    negative_words = [\"sad\",\"angry\",\"bad\",\"terrible\",\"hate\",\"worst\",\"poor\",\"horrible\"]\n",
        "\n",
        "    for word in positive_words:\n",
        "        if word in text.lower():\n",
        "            emotion.append(\"Joy\")\n",
        "    for word in negative_words:\n",
        "        if word in text.lower():\n",
        "            emotion.append(\"Anger/Sadness\")\n",
        "\n",
        "    if not emotion:\n",
        "        emotion.append(\"Neutral/Mixed\")\n",
        "\n",
        "    return {\n",
        "        \"Text\": text,\n",
        "        \"Sentiment\": sentiment,\n",
        "        \"Polarity\": round(polarity, 3),\n",
        "        \"VADER Compound\": vader_compound,\n",
        "        \"Emotion\": emotion\n",
        "    }\n"
      ],
      "metadata": {
        "id": "HzGlcukcBzzm"
      },
      "execution_count": 3,
      "outputs": []
    },
    {
      "cell_type": "code",
      "source": [
        "while True:\n",
        "    user_input = input(\"Enter text to analyze (or type 'exit' to quit): \")\n",
        "    if user_input.lower() == 'exit':\n",
        "        print(\"Exiting Sentiment Analyzer. Bye!\")\n",
        "        break\n",
        "    result = analyze_sentiment(user_input)\n",
        "    print(\"\\n📊 Sentiment Analysis Result:\")\n",
        "    print(f\"Text: {result['Text']}\")\n",
        "    print(f\"Sentiment: {result['Sentiment']}\")\n",
        "    print(f\"Polarity (TextBlob): {result['Polarity']}\")\n",
        "    print(f\"VADER Compound: {result['VADER Compound']}\")\n",
        "    print(f\"Detected Emotion: {', '.join(result['Emotion'])}\\n\")\n"
      ],
      "metadata": {
        "colab": {
          "base_uri": "https://localhost:8080/"
        },
        "id": "pGkbY2TyB3xx",
        "outputId": "9fca76dc-e7ec-4a2a-cdf8-1b30379ea0ea"
      },
      "execution_count": 4,
      "outputs": [
        {
          "output_type": "stream",
          "name": "stdout",
          "text": [
            "Enter text to analyze (or type 'exit' to quit): I absolutely love this product! It works fantastic.\n",
            "\n",
            "📊 Sentiment Analysis Result:\n",
            "Text: I absolutely love this product! It works fantastic.\n",
            "Sentiment: Positive\n",
            "Polarity (TextBlob): 0.512\n",
            "VADER Compound: 0.855\n",
            "Detected Emotion: Joy, Joy\n",
            "\n",
            "Enter text to analyze (or type 'exit' to quit): exit\n",
            "Exiting Sentiment Analyzer. Bye!\n"
          ]
        }
      ]
    }
  ]
}